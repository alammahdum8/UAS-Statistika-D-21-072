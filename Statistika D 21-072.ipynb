{
 "cells": [
  {
   "cell_type": "markdown",
   "metadata": {},
   "source": [
    "- Exponential\n",
    "\n",
    "Eksponensial adalah suatu metode peramalan rata-rata bergerak yang memberikan bobot secara eksponensial atau bertingkat pada data-data terbarunya sehingga data-data terbaru tersebut akan mendapatkan bobot yang lebih besar. Dengan kata lain, semakin baru atau semakin kini datanya, semakin besar pula bobotnya. Hal ini dikarenakan data yang terbaru dianggap lebih relevan sehingga diberikan bobot yang lebih besar. \n",
    "\n",
    "Penggunaan exponential biasanya digunakan untuk forecasting (peramalan) atau peramalan bisnis seperti prediksi curah hujan, produksi roti, persediaan obat-obatan, penjualan barang dengan alpha ataupun parameter yang ditentukan. Tentunya untuk melakukan analisis statistik berupa Exponential Smoothing dapat diselesaikan menggunakan Microsoft Excel. Pada artikel kali ini, DQLab akan mengupas tentang data analisis statistik berupa Exponential Smoothing dengan menggunakan Excel. \n"
   ]
  },
  {
   "cell_type": "code",
   "execution_count": 1,
   "metadata": {},
   "outputs": [
    {
     "name": "stdout",
     "output_type": "stream",
     "text": [
      "jadi rata rata waktu nilai statistik yang sesungguhnya dengan tingkat kepercayaan 99% berkisar antara 46.187837242381356 <miu< 61.61216275761864\n"
     ]
    }
   ],
   "source": [
    "#2a\n",
    "#untuk menghitung nomor 2a harus menyelesaikan soal 2b terlebih dahulu untuk mendapat sdeviasi\n",
    "#karena jumlah data kurang dari 30 maka menggunakan estimasi = xbar(+-) (t/(alpha/2)) dikali sdeviasi dibagi akar dari n\n",
    "import math\n",
    "#diket \n",
    "n = 10\n",
    "v = n-1\n",
    "xbar = 53.9\n",
    "sdeviasi = 7.504\n",
    "#nilai tingkat kepercayaan 99% = t\n",
    "# didapat t dari (t/(alpha/2))\n",
    "t = 3.250\n",
    "#estimasi rata rata nilai yang lebih kecil dari miu\n",
    "estimasi1 = xbar - t*(sdeviasi/(math.sqrt(n)))\n",
    "#estimasi rata rata nilai yang lebih besar dari miu\n",
    "estimasi2 = xbar + t*(sdeviasi/(math.sqrt(n)))\n",
    "print('jadi rata rata waktu nilai statistik yang sesungguhnya dengan tingkat kepercayaan 99% berkisar antara',estimasi1,'<miu<',estimasi2)"
   ]
  },
  {
   "cell_type": "code",
   "execution_count": 2,
   "metadata": {},
   "outputs": [
    {
     "name": "stdout",
     "output_type": "stream",
     "text": [
      "maka standar deiviasinya adalah 7.504813270310076\n"
     ]
    }
   ],
   "source": [
    "#2b\n",
    "import statistics\n",
    "data = [50,58,43,64,47,50,56,47,60,64]\n",
    "sdeviasi = statistics.stdev(data)\n",
    "rata=statistics.mean(data)\n",
    "print('maka standar deiviasinya adalah',sdeviasi)"
   ]
  },
  {
   "cell_type": "code",
   "execution_count": 3,
   "metadata": {},
   "outputs": [
    {
     "name": "stdout",
     "output_type": "stream",
     "text": [
      "skewnessnya adalah :  0.08176290963037283\n",
      "kurtosisnya adalah :  -1.380579722068635\n"
     ]
    }
   ],
   "source": [
    "#2c\n",
    "import numpy as np\n",
    "import pandas as pd\n",
    "from scipy.stats import kurtosis\n",
    "from scipy.stats import skew\n",
    "\n",
    "import matplotlib.pyplot as plt\n",
    "\n",
    "plt.style.use('ggplot')\n",
    "\n",
    "data = [50,58,43,64,47,50,56,47,60,64]\n",
    "print(\"skewnessnya adalah : \",skew(data))\n",
    "print(\"kurtosisnya adalah : \",kurtosis(data))"
   ]
  },
  {
   "cell_type": "markdown",
   "metadata": {},
   "source": [
    "- K-NN regression\n",
    "\n",
    "Proses kerja KNN untuk regresi hampir sama dengan proses kerja KNN untuk klasifikasi.\n",
    "\n",
    "Pada proses klasifikasi, langkah terakhir adalah menentukan data baru masuk kelas tertentu berdasarkan voting jumlah kelas yang dimiliki oleh K.\n",
    "\n",
    "Pada KNN untuk regresi, langkah terakhir adalah mengambil semua nilai yang dimiliki tetangga terdekat yang ditentukan (K), lalu menghitung nilai rata-ratanya.\n",
    "\n",
    "Nilai rata-rata ini kemudian menjadi nilai output untuk data baru yang kita masukkan dalam algoritma KNN.\n",
    "\n",
    "Secara lengkap, proses kerja algoritma KNN untuk reresi dapat dituliskan sebagai berikut.\n",
    "\n",
    "Langkah-1: Tentukan jumlah tetangga terdekat (K) yang akan dipertimbangkan sebagai dasar klasifikasi.\n",
    "\n",
    "Langkah-2: Hitung jarak antara data baru terhadap semua titik data dalam dataset.\n",
    "\n",
    "Langkah 3: Urutkan jarak pada langkah 2 dari kecil ke besar, lalu ambil titik data dengan jarak terkecil sejumlah K titik.\n",
    "\n",
    "Langkah-4: Hitung rata-rata nilai variabel output dari tiap titik, bisa juga melibatkan pembobotan berdasarkan jarak dalam perhitungan rata-ratanya (Inverse Distance Weighting).\n",
    "\n",
    "Langkah-5: Masukkan nilai rata-rata tersebut sebagai output prediksi."
   ]
  },
  {
   "cell_type": "code",
   "execution_count": 4,
   "metadata": {},
   "outputs": [
    {
     "data": {
      "text/plain": [
       "52"
      ]
     },
     "execution_count": 4,
     "metadata": {},
     "output_type": "execute_result"
    }
   ],
   "source": [
    "#dari data soal nomor 3 diadapat pola yang bisa menentukan nilai y\n",
    "#dimana x1 ditambah 2 kali x2 menghasilkan nilai y,sehinggan berikut bentuk programnya\n",
    "def knn (x1,x2):\n",
    "  y=x1+2*(x2)\n",
    "  return y\n",
    "# maka nilai y nya adalah berikut:\n",
    "knn(14,19)"
   ]
  },
  {
   "cell_type": "code",
   "execution_count": 5,
   "metadata": {},
   "outputs": [
    {
     "name": "stdout",
     "output_type": "stream",
     "text": [
      "jadi diperoleh selang kepercayaan adalah 2.5020000000000002 <miu< 2.698\n"
     ]
    }
   ],
   "source": [
    "#4\n",
    "import math\n",
    "#diket \n",
    "n = 36\n",
    "xbar = 2.6\n",
    "sdeviasi = 0.3\n",
    "#nilai tingkat kepercayaan 95% = z\n",
    "\n",
    "z = 1.96\n",
    "#rata rata ip yang lebih kecil dari miu\n",
    "rata_rata_ip1 = xbar - z*(sdeviasi/(math.sqrt(n)))\n",
    "##rata rata ip yang lebih besar dari miu\n",
    "rata_rata_ip2 = xbar + z*(sdeviasi/(math.sqrt(n)))\n",
    "print('jadi diperoleh selang kepercayaan adalah',rata_rata_ip1,'<miu<',rata_rata_ip2)"
   ]
  }
 ],
 "metadata": {
  "kernelspec": {
   "display_name": "Python 3.9.12 ('base')",
   "language": "python",
   "name": "python3"
  },
  "language_info": {
   "codemirror_mode": {
    "name": "ipython",
    "version": 3
   },
   "file_extension": ".py",
   "mimetype": "text/x-python",
   "name": "python",
   "nbconvert_exporter": "python",
   "pygments_lexer": "ipython3",
   "version": "3.9.12"
  },
  "vscode": {
   "interpreter": {
    "hash": "7679c2132d3f6ce38c9df14d554b39c06862b36a4e6689c81f9ae15bd0911d7d"
   }
  },
  "widgets": {
   "application/vnd.jupyter.widget-state+json": {
    "state": {},
    "version_major": 2,
    "version_minor": 0
   }
  }
 },
 "nbformat": 4,
 "nbformat_minor": 4
}
